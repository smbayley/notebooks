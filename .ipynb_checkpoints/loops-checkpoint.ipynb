{
 "cells": [
  {
   "cell_type": "markdown",
   "metadata": {},
   "source": [
    "# Loops (iterations)"
   ]
  },
  {
   "cell_type": "markdown",
   "metadata": {},
   "source": [
    "There are lots of times when loops are useful. \n",
    "- doing the same thing to a bunch of similar items\n",
    "- doing something some specified number of times\n",
    "- reading from a file (e.g., reading each line of a csv)\n",
    "\n",
    "Python makes loops pretty easy. There are generally two flavors of loops:\n",
    "\n",
    "### Do something *N* times\n",
    "\n",
    "```\n",
    "for n in range(low, high, step): \n",
    "    # *do something*\n",
    "```\n",
    "\n",
    "### Do something to each item in an iterable.\n",
    "\n",
    "```\n",
    "for x in my_iterable: \n",
    "    # *do something*\n",
    "```\n",
    "\n",
    "Once you get the hang of it, you'll realize these are really the same thing. In general, there is almost no reason to use the first type of loop... but for some reason it's easier to understand for beginners. \n",
    "      "
   ]
  },
  {
   "cell_type": "markdown",
   "metadata": {},
   "source": [
    "## Examples"
   ]
  },
  {
   "cell_type": "markdown",
   "metadata": {},
   "source": [
    "Let's use a loop to do some exponent stuff. Exponentiation is the repeated multiplication of some base: $b^n = \\underbrace{b\\times\\dots\\times b}_{n}$.\n",
    "\n",
    "This is pretty easy to do with python. Lets write a function for it."
   ]
  },
  {
   "cell_type": "code",
   "execution_count": 16,
   "metadata": {
    "collapsed": true
   },
   "outputs": [],
   "source": [
    "def power(b, n):\n",
    "    result = b\n",
    "    # here's the loop\n",
    "    for _ in range(n - 1):\n",
    "        result *= b\n",
    "    \n",
    "    return result"
   ]
  },
  {
   "cell_type": "markdown",
   "metadata": {},
   "source": [
    "Now we can solve some shit. "
   ]
  },
  {
   "cell_type": "code",
   "execution_count": 17,
   "metadata": {},
   "outputs": [
    {
     "name": "stdout",
     "output_type": "stream",
     "text": [
      "2^0 = 2\n",
      "5^1 = 5\n",
      "10^2 = 100\n"
     ]
    }
   ],
   "source": [
    "# let's use another type of loop.\n",
    "bases = [2, 5, 10]\n",
    "powers = [0, 1, 2]\n",
    "\n",
    "for b, p in zip(bases, powers):\n",
    "    print('{}^{} = {}'.format(b, p, power(b, p)))\n"
   ]
  },
  {
   "cell_type": "markdown",
   "metadata": {},
   "source": [
    "There's a few new things going on in that last block. \n",
    "1. We defined two **lists** *bases* and *powers*.\n",
    "2. We zipped the two lists together. \n",
    "3. We iterated over the zipped lists.\n",
    "4. We did some fancy printing. Basically, we created a string with three placeholders (denoted by {}), then we formatted the string with three arguments (b, p, and the result of calling power with b and p).\n",
    "\n",
    "Zipping is really useful and pretty easy to understand:"
   ]
  },
  {
   "cell_type": "code",
   "execution_count": 18,
   "metadata": {},
   "outputs": [
    {
     "name": "stdout",
     "output_type": "stream",
     "text": [
      "2^0 = 2\n",
      "5^1 = 5\n",
      "10^2 = 100\n"
     ]
    }
   ],
   "source": [
    "bases = [2, 5, 10]\n",
    "powers = [0, 1, 2]\n",
    "\n",
    "for b, p in zip(bases, powers):\n",
    "    print('{}^{} = {}'.format(b, p, power(b, p)))\n"
   ]
  },
  {
   "cell_type": "markdown",
   "metadata": {},
   "source": [
    "Basically, you take the $i^{th}$ element from each list and group them together. Then we *unpack* the groups and call **power**. We've got a problem though.. take a look at the output again.\n"
   ]
  },
  {
   "cell_type": "code",
   "execution_count": 19,
   "metadata": {},
   "outputs": [
    {
     "name": "stdout",
     "output_type": "stream",
     "text": [
      "2^0 = 2\n",
      "5^1 = 5\n",
      "10^2 = 100\n"
     ]
    }
   ],
   "source": [
    "bases = [2, 5, 10]\n",
    "powers = [0, 1, 2]\n",
    "\n",
    "for b, p in zip(bases, powers):\n",
    "    print('{}^{} = {}'.format(b, p, power(b, p)))\n"
   ]
  },
  {
   "cell_type": "markdown",
   "metadata": {},
   "source": [
    "Pretty sure $2^0$ should be 1, not 2. When *n* is zero we have a special case... so we should check for that. This is called a conditional. There'll be another notebook for conditionals. Here's a quick example."
   ]
  },
  {
   "cell_type": "code",
   "execution_count": 20,
   "metadata": {
    "collapsed": true
   },
   "outputs": [],
   "source": [
    "def power(b, n):\n",
    "    if n == 0:\n",
    "        # if n is zero we come in here\n",
    "        result = 1\n",
    "    else:\n",
    "        # otherwise we come in here\n",
    "        result = b\n",
    "        for _ in range(n - 1):\n",
    "            result *= b\n",
    "    \n",
    "    return result"
   ]
  },
  {
   "cell_type": "markdown",
   "metadata": {},
   "source": [
    "Now let's check the output..."
   ]
  },
  {
   "cell_type": "code",
   "execution_count": 21,
   "metadata": {},
   "outputs": [
    {
     "name": "stdout",
     "output_type": "stream",
     "text": [
      "2^0 = 1\n",
      "5^1 = 5\n",
      "10^2 = 100\n"
     ]
    }
   ],
   "source": [
    "bases = [2, 5, 10]\n",
    "powers = [0, 1, 2]\n",
    "\n",
    "for b, p in zip(bases, powers):\n",
    "    print('{}^{} = {}'.format(b, p, power(b, p)))"
   ]
  },
  {
   "cell_type": "markdown",
   "metadata": {},
   "source": [
    "Of course, there is a better way to handle this ..."
   ]
  },
  {
   "cell_type": "code",
   "execution_count": 2,
   "metadata": {},
   "outputs": [
    {
     "name": "stdout",
     "output_type": "stream",
     "text": [
      "2^0 = 1\n",
      "5^1 = 5\n",
      "10^2 = 100\n"
     ]
    }
   ],
   "source": [
    "def power(b, n):\n",
    "    result = 1\n",
    "    for _ in range(n):\n",
    "        result *= b\n",
    "    \n",
    "    return result\n",
    "\n",
    "bases = [2, 5, 10]\n",
    "powers = [0, 1, 2]\n",
    "\n",
    "for b, p in zip(bases, powers):\n",
    "    print('{}^{} = {}'.format(b, p, power(b, p)))"
   ]
  },
  {
   "cell_type": "code",
   "execution_count": null,
   "metadata": {
    "collapsed": true
   },
   "outputs": [],
   "source": []
  }
 ],
 "metadata": {
  "kernelspec": {
   "display_name": "Python 3",
   "language": "python",
   "name": "python3"
  },
  "language_info": {
   "codemirror_mode": {
    "name": "ipython",
    "version": 3
   },
   "file_extension": ".py",
   "mimetype": "text/x-python",
   "name": "python",
   "nbconvert_exporter": "python",
   "pygments_lexer": "ipython3",
   "version": "3.5.0"
  }
 },
 "nbformat": 4,
 "nbformat_minor": 2
}
